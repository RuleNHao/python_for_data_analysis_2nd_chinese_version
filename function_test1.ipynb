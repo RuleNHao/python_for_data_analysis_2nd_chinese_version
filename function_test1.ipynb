{
 "cells": [
  {
   "cell_type": "code",
   "execution_count": 1,
   "metadata": {},
   "outputs": [
    {
     "data": {
      "text/plain": [
       "{0: -0.026934973678246554,\n",
       " 1: -3.3623572672278152,\n",
       " 2: -0.2848269245160473,\n",
       " 3: -1.780845846910669,\n",
       " 4: -0.09910037560949243,\n",
       " 5: 0.4705337957354524,\n",
       " 6: -0.18370836065035726}"
      ]
     },
     "execution_count": 1,
     "metadata": {},
     "output_type": "execute_result"
    }
   ],
   "source": [
    "import numpy as np\n",
    "data = {i : np.random.randn() for i in range(7)}\n",
    "data"
   ]
  },
  {
   "cell_type": "code",
   "execution_count": 2,
   "metadata": {},
   "outputs": [],
   "source": [
    "import datetime\n",
    "import torch"
   ]
  },
  {
   "cell_type": "code",
   "execution_count": 7,
   "metadata": {},
   "outputs": [],
   "source": [
    "def bili_dd(a, b):\n",
    "    \"\"\"\n",
    "    boy next door!\n",
    "    ----\n",
    "    dududu\n",
    "    \"\"\"\n",
    "    return a + b"
   ]
  },
  {
   "cell_type": "code",
   "execution_count": 12,
   "metadata": {},
   "outputs": [
    {
     "data": {
      "text/plain": [
       "np.array\n",
       "np.asanyarray\n",
       "np.asarray\n",
       "np.ascontiguousarray\n",
       "np.asfarray\n",
       "np.asfortranarray\n",
       "np.chararray\n",
       "np.ndarray\n",
       "np.numarray\n",
       "np.recarray"
      ]
     },
     "metadata": {},
     "output_type": "display_data"
    }
   ],
   "source": [
    "np.*array?"
   ]
  },
  {
   "cell_type": "code",
   "execution_count": 27,
   "metadata": {},
   "outputs": [
    {
     "data": {
      "application/json": {
       "cell": {
        "!": "OSMagics",
        "HTML": "Other",
        "SVG": "Other",
        "bash": "Other",
        "capture": "ExecutionMagics",
        "cmd": "Other",
        "debug": "ExecutionMagics",
        "file": "Other",
        "html": "DisplayMagics",
        "javascript": "DisplayMagics",
        "js": "DisplayMagics",
        "latex": "DisplayMagics",
        "markdown": "DisplayMagics",
        "perl": "Other",
        "prun": "ExecutionMagics",
        "pypy": "Other",
        "python": "Other",
        "python2": "Other",
        "python3": "Other",
        "ruby": "Other",
        "script": "ScriptMagics",
        "sh": "Other",
        "svg": "DisplayMagics",
        "sx": "OSMagics",
        "system": "OSMagics",
        "time": "ExecutionMagics",
        "timeit": "ExecutionMagics",
        "writefile": "OSMagics"
       },
       "line": {
        "alias": "OSMagics",
        "alias_magic": "BasicMagics",
        "autoawait": "AsyncMagics",
        "autocall": "AutoMagics",
        "automagic": "AutoMagics",
        "autosave": "KernelMagics",
        "bookmark": "OSMagics",
        "cd": "OSMagics",
        "clear": "KernelMagics",
        "cls": "KernelMagics",
        "colors": "BasicMagics",
        "conda": "PackagingMagics",
        "config": "ConfigMagics",
        "connect_info": "KernelMagics",
        "copy": "Other",
        "ddir": "Other",
        "debug": "ExecutionMagics",
        "dhist": "OSMagics",
        "dirs": "OSMagics",
        "doctest_mode": "BasicMagics",
        "echo": "Other",
        "ed": "Other",
        "edit": "KernelMagics",
        "env": "OSMagics",
        "gui": "BasicMagics",
        "hist": "Other",
        "history": "HistoryMagics",
        "killbgscripts": "ScriptMagics",
        "ldir": "Other",
        "less": "KernelMagics",
        "load": "CodeMagics",
        "load_ext": "ExtensionMagics",
        "loadpy": "CodeMagics",
        "logoff": "LoggingMagics",
        "logon": "LoggingMagics",
        "logstart": "LoggingMagics",
        "logstate": "LoggingMagics",
        "logstop": "LoggingMagics",
        "ls": "Other",
        "lsmagic": "BasicMagics",
        "macro": "ExecutionMagics",
        "magic": "BasicMagics",
        "matplotlib": "PylabMagics",
        "mkdir": "Other",
        "more": "KernelMagics",
        "notebook": "BasicMagics",
        "page": "BasicMagics",
        "pastebin": "CodeMagics",
        "pdb": "ExecutionMagics",
        "pdef": "NamespaceMagics",
        "pdoc": "NamespaceMagics",
        "pfile": "NamespaceMagics",
        "pinfo": "NamespaceMagics",
        "pinfo2": "NamespaceMagics",
        "pip": "PackagingMagics",
        "popd": "OSMagics",
        "pprint": "BasicMagics",
        "precision": "BasicMagics",
        "prun": "ExecutionMagics",
        "psearch": "NamespaceMagics",
        "psource": "NamespaceMagics",
        "pushd": "OSMagics",
        "pwd": "OSMagics",
        "pycat": "OSMagics",
        "pylab": "PylabMagics",
        "qtconsole": "KernelMagics",
        "quickref": "BasicMagics",
        "recall": "HistoryMagics",
        "rehashx": "OSMagics",
        "reload_ext": "ExtensionMagics",
        "ren": "Other",
        "rep": "Other",
        "rerun": "HistoryMagics",
        "reset": "NamespaceMagics",
        "reset_selective": "NamespaceMagics",
        "rmdir": "Other",
        "run": "ExecutionMagics",
        "save": "CodeMagics",
        "sc": "OSMagics",
        "set_env": "OSMagics",
        "store": "StoreMagics",
        "sx": "OSMagics",
        "system": "OSMagics",
        "tb": "ExecutionMagics",
        "time": "ExecutionMagics",
        "timeit": "ExecutionMagics",
        "unalias": "OSMagics",
        "unload_ext": "ExtensionMagics",
        "who": "NamespaceMagics",
        "who_ls": "NamespaceMagics",
        "whos": "NamespaceMagics",
        "xdel": "NamespaceMagics",
        "xmode": "BasicMagics"
       }
      },
      "text/plain": [
       "Available line magics:\n",
       "%alias  %alias_magic  %autoawait  %autocall  %automagic  %autosave  %bookmark  %cd  %clear  %cls  %colors  %conda  %config  %connect_info  %copy  %ddir  %debug  %dhist  %dirs  %doctest_mode  %echo  %ed  %edit  %env  %gui  %hist  %history  %killbgscripts  %ldir  %less  %load  %load_ext  %loadpy  %logoff  %logon  %logstart  %logstate  %logstop  %ls  %lsmagic  %macro  %magic  %matplotlib  %mkdir  %more  %notebook  %page  %pastebin  %pdb  %pdef  %pdoc  %pfile  %pinfo  %pinfo2  %pip  %popd  %pprint  %precision  %prun  %psearch  %psource  %pushd  %pwd  %pycat  %pylab  %qtconsole  %quickref  %recall  %rehashx  %reload_ext  %ren  %rep  %rerun  %reset  %reset_selective  %rmdir  %run  %save  %sc  %set_env  %store  %sx  %system  %tb  %time  %timeit  %unalias  %unload_ext  %who  %who_ls  %whos  %xdel  %xmode\n",
       "\n",
       "Available cell magics:\n",
       "%%!  %%HTML  %%SVG  %%bash  %%capture  %%cmd  %%debug  %%file  %%html  %%javascript  %%js  %%latex  %%markdown  %%perl  %%prun  %%pypy  %%python  %%python2  %%python3  %%ruby  %%script  %%sh  %%svg  %%sx  %%system  %%time  %%timeit  %%writefile\n",
       "\n",
       "Automagic is ON, % prefix IS NOT needed for line magics."
      ]
     },
     "execution_count": 27,
     "metadata": {},
     "output_type": "execute_result"
    }
   ],
   "source": [
    "%lsmagic"
   ]
  },
  {
   "cell_type": "code",
   "execution_count": 57,
   "metadata": {},
   "outputs": [
    {
     "data": {
      "text/plain": [
       "'D:\\\\Python_Code\\\\Python for Data Analysis'"
      ]
     },
     "execution_count": 57,
     "metadata": {},
     "output_type": "execute_result"
    }
   ],
   "source": [
    "a = %pwd\n",
    "a"
   ]
  },
  {
   "cell_type": "code",
   "execution_count": 59,
   "metadata": {
    "collapsed": true,
    "jupyter": {
     "outputs_hidden": true
    }
   },
   "outputs": [
    {
     "data": {
      "text/plain": [
       "\u001b[1;31mDocstring:\u001b[0m\n",
       "::\n",
       "\n",
       "  %matplotlib [-l] [gui]\n",
       "\n",
       "Set up matplotlib to work interactively.\n",
       "\n",
       "This function lets you activate matplotlib interactive support\n",
       "at any point during an IPython session. It does not import anything\n",
       "into the interactive namespace.\n",
       "\n",
       "If you are using the inline matplotlib backend in the IPython Notebook\n",
       "you can set which figure formats are enabled using the following::\n",
       "\n",
       "    In [1]: from IPython.display import set_matplotlib_formats\n",
       "\n",
       "    In [2]: set_matplotlib_formats('pdf', 'svg')\n",
       "\n",
       "The default for inline figures sets `bbox_inches` to 'tight'. This can\n",
       "cause discrepancies between the displayed image and the identical\n",
       "image created using `savefig`. This behavior can be disabled using the\n",
       "`%config` magic::\n",
       "\n",
       "    In [3]: %config InlineBackend.print_figure_kwargs = {'bbox_inches':None}\n",
       "\n",
       "In addition, see the docstring of\n",
       "`IPython.display.set_matplotlib_formats` and\n",
       "`IPython.display.set_matplotlib_close` for more information on\n",
       "changing additional behaviors of the inline backend.\n",
       "\n",
       "Examples\n",
       "--------\n",
       "To enable the inline backend for usage with the IPython Notebook::\n",
       "\n",
       "    In [1]: %matplotlib inline\n",
       "\n",
       "In this case, where the matplotlib default is TkAgg::\n",
       "\n",
       "    In [2]: %matplotlib\n",
       "    Using matplotlib backend: TkAgg\n",
       "\n",
       "But you can explicitly request a different GUI backend::\n",
       "\n",
       "    In [3]: %matplotlib qt\n",
       "\n",
       "You can list the available backends using the -l/--list option::\n",
       "\n",
       "   In [4]: %matplotlib --list\n",
       "   Available matplotlib backends: ['osx', 'qt4', 'qt5', 'gtk3', 'notebook', 'wx', 'qt', 'nbagg',\n",
       "   'gtk', 'tk', 'inline']\n",
       "\n",
       "positional arguments:\n",
       "  gui         Name of the matplotlib backend to use ('agg', 'gtk', 'gtk3', 'inline', 'ipympl', 'nbagg', 'notebook',\n",
       "              'osx', 'pdf', 'ps', 'qt', 'qt4', 'qt5', 'svg', 'tk', 'widget', 'wx'). If given, the corresponding\n",
       "              matplotlib backend is used, otherwise it will be matplotlib's default (which you can set in your\n",
       "              matplotlib config file).\n",
       "\n",
       "optional arguments:\n",
       "  -l, --list  Show available matplotlib backends\n",
       "\u001b[1;31mFile:\u001b[0m      c:\\users\\rulenhao\\.conda\\envs\\pytorch_env\\lib\\site-packages\\ipython\\core\\magics\\pylab.py\n"
      ]
     },
     "metadata": {},
     "output_type": "display_data"
    }
   ],
   "source": [
    "%matplotlib?"
   ]
  },
  {
   "cell_type": "code",
   "execution_count": 67,
   "metadata": {},
   "outputs": [
    {
     "data": {
      "text/plain": [
       "[<matplotlib.lines.Line2D at 0x27ba0988d90>]"
      ]
     },
     "execution_count": 67,
     "metadata": {},
     "output_type": "execute_result"
    },
    {
     "data": {
      "image/png": "[encoded data removed]",
      "text/plain": [
       "<Figure size 432x288 with 1 Axes>"
      ]
     },
     "metadata": {
      "needs_background": "light"
     },
     "output_type": "display_data"
    }
   ],
   "source": [
    "%matplotlib inline\n",
    "import matplotlib.pyplot as plt\n",
    "plt.plot(np.random.randn(50).cumsum())"
   ]
  },
  {
   "cell_type": "code",
   "execution_count": 70,
   "metadata": {},
   "outputs": [],
   "source": [
    "def isitrable(object):\n",
    "    try:\n",
    "        iter(object)\n",
    "        return True\n",
    "    except TypeError:\n",
    "        return False"
   ]
  },
  {
   "cell_type": "code",
   "execution_count": 73,
   "metadata": {},
   "outputs": [
    {
     "data": {
      "text/plain": [
       "True"
      ]
     },
     "execution_count": 73,
     "metadata": {},
     "output_type": "execute_result"
    }
   ],
   "source": [
    "a = np.array([1, 2])\n",
    "b = \"sxkkx xkck\"\n",
    "isitrable(b)"
   ]
  },
  {
   "cell_type": "code",
   "execution_count": 126,
   "metadata": {},
   "outputs": [
    {
     "name": "stdout",
     "output_type": "stream",
     "text": [
      ";;;;;;;;\n",
      "    xkjcisolakjclj\n",
      "kasjdkljcklajalskj\n",
      "    sasdasdasda\n",
      "asdasdasdas,,sdasd\n",
      ";;;;;;;;\n"
     ]
    }
   ],
   "source": [
    "a = \"\"\"--------\n",
    "    xkjcisolakjclj\n",
    "kasjdkljcklajalskj\n",
    "    sasdasdasda\n",
    "asdasdasdas,,sdasd\n",
    "--------\"\"\"\n",
    "b = a.replace('-',';')\n",
    "print(b)\n",
    "#print(a)"
   ]
  },
  {
   "cell_type": "code",
   "execution_count": 5,
   "metadata": {},
   "outputs": [],
   "source": [
    "from datetime import datetime,date,time\n",
    "dt = datetime(2021, 1, 12, 20, 43, 22)"
   ]
  },
  {
   "cell_type": "code",
   "execution_count": 6,
   "metadata": {},
   "outputs": [
    {
     "data": {
      "text/plain": [
       "datetime.date(2021, 1, 12)"
      ]
     },
     "execution_count": 6,
     "metadata": {},
     "output_type": "execute_result"
    }
   ],
   "source": [
    "dt.date()"
   ]
  },
  {
   "cell_type": "code",
   "execution_count": 7,
   "metadata": {},
   "outputs": [
    {
     "data": {
      "text/plain": [
       "datetime.time(20, 43, 22)"
      ]
     },
     "execution_count": 7,
     "metadata": {},
     "output_type": "execute_result"
    }
   ],
   "source": [
    "dt.time()"
   ]
  },
  {
   "cell_type": "code",
   "execution_count": 14,
   "metadata": {},
   "outputs": [
    {
     "data": {
      "text/plain": [
       "'20:43:22'"
      ]
     },
     "execution_count": 14,
     "metadata": {},
     "output_type": "execute_result"
    }
   ],
   "source": [
    "dt.time().strftime('%H:%M:%S')"
   ]
  },
  {
   "cell_type": "code",
   "execution_count": 36,
   "metadata": {},
   "outputs": [
    {
     "name": "stdout",
     "output_type": "stream",
     "text": [
      "{0: '22sss22dssd32'}\n"
     ]
    },
    {
     "data": {
      "text/plain": [
       "datetime.date(22, 4, 11)"
      ]
     },
     "execution_count": 36,
     "metadata": {},
     "output_type": "execute_result"
    }
   ],
   "source": [
    "#对于文本中的时间序列，可以使用相应strftime()和strptime()实现数据处理\n",
    "b = {}\n",
    "a = datetime.strptime('1111-11-11 22:22:32','%Y-%m-%d %H:%M:%S')\n",
    "b[0] = a.time().strftime('%Hsss%Mdssd%S')\n",
    "print(b)\n",
    "datetime(22,4,11,4,11,44).replace(minute=0, second=0).date()\n"
   ]
  },
  {
   "cell_type": "code",
   "execution_count": 34,
   "metadata": {},
   "outputs": [],
   "source": [
    "#时间的偏移量给出的两个参量days&seconds表示(year,month,day)&(hour,minute,second)的差\n",
    "import datetime\n",
    "dt = datetime.datetime(2021, 1, 12, 0, 0, 0)\n",
    "dt2 = datetime.datetime(2021, 1, 13, 14, 30, 0)\n",
    "dt3 = dt.replace(year=2021,month=1,day=22,hour=14, minute=30, second=20)"
   ]
  },
  {
   "cell_type": "code",
   "execution_count": 36,
   "metadata": {},
   "outputs": [
    {
     "data": {
      "text/plain": [
       "datetime.datetime(2021, 1, 2, 23, 59, 40)"
      ]
     },
     "execution_count": 36,
     "metadata": {},
     "output_type": "execute_result"
    }
   ],
   "source": [
    "delta = dt - dt3\n",
    "delta + dt2"
   ]
  },
  {
   "cell_type": "code",
   "execution_count": 45,
   "metadata": {},
   "outputs": [
    {
     "name": "stdout",
     "output_type": "stream",
     "text": [
      "32\n"
     ]
    }
   ],
   "source": [
    "#continue&break\n",
    "#求和遇到第三个5之前的所有数字\n",
    "sequence = [1, 2, 5, 'ew', None, 'sdsd', 2, 3, 5, 4, 4, 6, 5, 3]\n",
    "five_num = 0\n",
    "total_third5 = 0\n",
    "for value in sequence:\n",
    "    if value == 5:\n",
    "        five_num += 1\n",
    "    elif value == None:\n",
    "        continue\n",
    "    elif type(value) == str:\n",
    "        continue\n",
    "    if five_num == 3:\n",
    "        break\n",
    "    total_third5 += value\n",
    "print(total_third5)"
   ]
  },
  {
   "cell_type": "code",
   "execution_count": 60,
   "metadata": {},
   "outputs": [
    {
     "name": "stdout",
     "output_type": "stream",
     "text": [
      "[2, 23]\n"
     ]
    }
   ],
   "source": [
    "sequence = ['as', 2, 'as', 23]\n",
    "num_seq = []\n",
    "for i in range(len(sequence)):\n",
    "    if type(sequence[i]) != str:\n",
    "        num_seq.append(sequence[i])\n",
    "print(num_seq)"
   ]
  },
  {
   "cell_type": "code",
   "execution_count": 75,
   "metadata": {},
   "outputs": [
    {
     "data": {
      "text/plain": [
       "b'\\xff\\xfes\\x00j\\x00j\\x00s\\x00j\\x00x\\x00j\\x00x\\x00j\\x00'"
      ]
     },
     "execution_count": 75,
     "metadata": {},
     "output_type": "execute_result"
    }
   ],
   "source": [
    "a = 'sjjsjxjxj'\n",
    "a.encode('utf-16')"
   ]
  },
  {
   "cell_type": "code",
   "execution_count": 109,
   "metadata": {},
   "outputs": [
    {
     "data": {
      "text/plain": [
       "[1, 1, 0, 1]"
      ]
     },
     "execution_count": 109,
     "metadata": {},
     "output_type": "execute_result"
    }
   ],
   "source": [
    "a = [1, 2, None, 3]\n",
    "b = a\n",
    "for i in range(len(a)):\n",
    "    if a[i] == None:\n",
    "        b[i] = 0\n",
    "    else:\n",
    "        b[i] = 1\n",
    "b"
   ]
  },
  {
   "cell_type": "code",
   "execution_count": 18,
   "metadata": {},
   "outputs": [
    {
     "data": {
      "text/plain": [
       "(1, 2, 3, [2, 4, 5, 'ss'], 'sdsd', 1, 2, 3, [2, 4, 5, 'ss'], 'sdsd')"
      ]
     },
     "execution_count": 18,
     "metadata": {},
     "output_type": "execute_result"
    }
   ],
   "source": [
    "#元组及其相关操作\n",
    "a = 1, 2, 3, [2, 4, 5], 'sdsd'\n",
    "b = list(a)\n",
    "c = tuple(b)\n",
    "c[3].append('ss')\n",
    "c *3\n",
    "c + a"
   ]
  },
  {
   "cell_type": "code",
   "execution_count": 45,
   "metadata": {},
   "outputs": [
    {
     "data": {
      "text/plain": [
       "2"
      ]
     },
     "execution_count": 45,
     "metadata": {},
     "output_type": "execute_result"
    }
   ],
   "source": [
    "seq = [1, 2, 3], [4, 1], [2, 5], [2, 5]\n",
    "seq.count([2, 5])"
   ]
  },
  {
   "cell_type": "code",
   "execution_count": 46,
   "metadata": {},
   "outputs": [
    {
     "data": {
      "text/plain": [
       "['sdsdsd', 5, 6, 2]"
      ]
     },
     "execution_count": 46,
     "metadata": {},
     "output_type": "execute_result"
    }
   ],
   "source": [
    "list_1 = [2, 5, 6, 2]\n",
    "list_1[0] = 'sdsdsd'\n",
    "list_1"
   ]
  },
  {
   "cell_type": "code",
   "execution_count": 49,
   "metadata": {},
   "outputs": [
    {
     "data": {
      "text/plain": [
       "9"
      ]
     },
     "execution_count": 49,
     "metadata": {},
     "output_type": "execute_result"
    }
   ],
   "source": [
    "a = range(9)\n",
    "len(a)"
   ]
  },
  {
   "cell_type": "code",
   "execution_count": 64,
   "metadata": {},
   "outputs": [
    {
     "name": "stdout",
     "output_type": "stream",
     "text": [
      "Wall time: 0 ns\n"
     ]
    },
    {
     "data": {
      "text/plain": [
       "[2, 4, 'sds', 11, 'saz', 'sdsd']"
      ]
     },
     "execution_count": 64,
     "metadata": {},
     "output_type": "execute_result"
    }
   ],
   "source": [
    "#append在末尾添加元素，remove移除第一个找到的元素，insert在任意位置插入一个元素，pop移除指定位置的元素。\n",
    "%time\n",
    "a = [1, 2, 4, 'sds', 11, 'saz']\n",
    "a.insert(1, 'yyp')\n",
    "a.pop(1) #参数为元素序号\n",
    "a.append('sdsd')\n",
    "a.remove(1) #参数为元素\n",
    "a.index(2)\n",
    "a"
   ]
  },
  {
   "cell_type": "code",
   "execution_count": 7,
   "metadata": {},
   "outputs": [
    {
     "data": {
      "text/plain": [
       "['asd', 'aazz', 'aav', 1, 4, 5, 4, 5]"
      ]
     },
     "execution_count": 7,
     "metadata": {},
     "output_type": "execute_result"
    }
   ],
   "source": [
    "#列表的排序方法\n",
    "b = [1, 4, 5, 'asd', 4, 5, 'aazz', 'aav', None, False]\n",
    "def sort_method(_list, key):\n",
    "    \"\"\"遍历整个list抽出相应的int float str 跳过None Boolean，\n",
    "    最后输出注意extend是把相应list再次加回其本身，\n",
    "    采用加法则不会，不过降低效率\"\"\"\n",
    "    list_num = []\n",
    "    list_str = []\n",
    "    for chunk in _list:\n",
    "        if type(chunk) == str:\n",
    "            list_str.append(chunk)\n",
    "        elif type(chunk) == int:\n",
    "            list_num.append(chunk)\n",
    "        elif type(chunk) == float:\n",
    "            list_num.append(chunk)\n",
    "        else:\n",
    "            continue\n",
    "    if key == 'num_str':\n",
    "        list_num.extend(list_str)\n",
    "        return list_num\n",
    "    if key == 'str_num':\n",
    "        list_str.extend(list_num)\n",
    "        return list_str\n",
    "sort_method(b, 'num_str')\n",
    "sort_method(b, 'str_num')"
   ]
  },
  {
   "cell_type": "code",
   "execution_count": 26,
   "metadata": {},
   "outputs": [
    {
     "name": "stdout",
     "output_type": "stream",
     "text": [
      "a = [1, 1, 2, 2, 4, 5, 8]\n",
      "a = [1, 1, 2, 2, 4, 5, 7, 8]\n"
     ]
    }
   ],
   "source": [
    "#bisect可以给出相应排序完成的列表的插值位置，insort插入相应的值，前提是已经排序，否则结果不正确\n",
    "a = [1, 2, 4, 5, 1, 2, 8]\n",
    "a.sort()\n",
    "#list a已经排序完成，如果想插入值9，则bisect会返回相应的index\n",
    "print('a =',a)\n",
    "import bisect\n",
    "bisect.bisect(a, 9)\n",
    "#现在用insort插入7\n",
    "bisect.insort(a, 7)\n",
    "print('a =',a)"
   ]
  },
  {
   "cell_type": "code",
   "execution_count": 34,
   "metadata": {},
   "outputs": [
    {
     "data": {
      "text/plain": [
       "[8, 5, 2, 1]"
      ]
     },
     "execution_count": 34,
     "metadata": {},
     "output_type": "execute_result"
    }
   ],
   "source": [
    "#切片与反向切片差为列表长度，第二个：后为步长\n",
    "len(a)\n",
    "a[2:5] == a[(2-len(a)):(5-len(a))]\n",
    "a[::-2]"
   ]
  },
  {
   "cell_type": "code",
   "execution_count": 39,
   "metadata": {
    "collapsed": true,
    "jupyter": {
     "outputs_hidden": true
    }
   },
   "outputs": [
    {
     "name": "stdout",
     "output_type": "stream",
     "text": [
      "0: 1 2\n",
      "1: 2 3\n",
      "2: 3 5\n",
      "6\n",
      "5\n",
      "4\n",
      "3\n",
      "2\n",
      "1\n"
     ]
    }
   ],
   "source": [
    "#Python内置functions \n",
    "#enumerate 返回相应的迭代器，常常用在for循环中\n",
    "seq = [1, 2, 4, 'ddf', [1, 2], [11, 2], 'asas']\n",
    "dic = {}\n",
    "seqq = []\n",
    "    dic[i] = chunk\n",
    "for i, chunk in enumerate(seq):\n",
    "    \n",
    "#sorted 将int和float排序，str字符排序\n",
    "seq1 = [1, 2, 5, 1, 5.1, 4]\n",
    "sorted(seq1)\n",
    "\n",
    "#zip 将两个列表的元素压缩起来\n",
    "seq1 = ['qwe', 'asda', 12, 'as', [1, 4]]\n",
    "seq2 = [True, False, 1, 2, 4]\n",
    "a = zip(seq1, seq2)\n",
    "#利用*号实现解压操作\n",
    "first_var, sec_var = zip(*a)\n",
    "sec_var\n",
    "a = [(1, 2), (2, 3), (3, 5)]\n",
    "for i, (a, b) in enumerate(a):\n",
    "    print('{}: {} {}'.format(i, a, b))\n",
    "\n",
    "#reversed 从后向前迭代序列，其产生一个迭代器，只有list或者for循环才能实体化\n",
    "a = [1, 2, 3, 4, 5, 6]\n",
    "a[::-1]\n",
    "list(reversed(a))\n",
    "for chunk in reversed(a):\n",
    "    print(chunk)"
   ]
  },
  {
   "cell_type": "code",
   "execution_count": 59,
   "metadata": {},
   "outputs": [
    {
     "data": {
      "text/plain": [
       "[(0, [1, 'sd']), (1, 5), (2, 'sda'), (3, [1, 2, 4])]"
      ]
     },
     "execution_count": 59,
     "metadata": {},
     "output_type": "execute_result"
    }
   ],
   "source": [
    "#字典dictionary。\n",
    "dic = {1: [1, 'sd'], 2: 5}\n",
    "'sd' in dic #只能检查key，不能检查value\n",
    "#字典的操作：del，pop，update.\n",
    "#del dic[1]\n",
    "#dic.pop(2)\n",
    "a = {3: 'sda', 'aa': [1, 2, 4]}\n",
    "dic.update(a)\n",
    "#字典自带的迭代器，keys() values()可以返回相应的key和value\n",
    "list(dic.keys())\n",
    "list(dic.values())\n",
    "list(enumerate(dic.values()))"
   ]
  },
  {
   "cell_type": "code",
   "execution_count": 61,
   "metadata": {},
   "outputs": [
    {
     "data": {
      "text/plain": [
       "{2: 'as', 5: 'asd', '23': 2, 'aa': 1}"
      ]
     },
     "execution_count": 61,
     "metadata": {},
     "output_type": "execute_result"
    }
   ],
   "source": [
    "#字典的构建 通过zip压缩两个list实现，或者字典直接接受二元元组list（dict comprehension）\n",
    "seq1 = [2, 5, '23', 'aa']\n",
    "seq2 = ['as', 'asd', 2, 1]\n",
    "dic = {}\n",
    "for key, value in zip(seq1, seq2):\n",
    "    dic[key] = value\n",
    "dic = dict(zip(seq1, seq2))\n",
    "dic"
   ]
  },
  {
   "cell_type": "code",
   "execution_count": 66,
   "metadata": {},
   "outputs": [
    {
     "data": {
      "text/plain": [
       "defaultdict(list, {'a': ['apple', 'array', 'amazing'], 'b': ['boy', 'box']})"
      ]
     },
     "execution_count": 66,
     "metadata": {},
     "output_type": "execute_result"
    }
   ],
   "source": [
    "#实现首字母分类的方法\n",
    "#1.利用常见的循环方法\n",
    "seq = ['apple', 'array', 'boy', 'box', 'amazing']\n",
    "dic = {}\n",
    "for word in seq:\n",
    "    letter = word[0]\n",
    "    if letter not in dic:\n",
    "        dic[letter] = [word] #这里word必须带[]，这表明value是列表\n",
    "    else:\n",
    "        dic[letter].append(word)\n",
    "#2.使用setdefault\n",
    "for word in seq:\n",
    "    letter = word[0]\n",
    "    dic.setdefault(letter, []).append(word)\n",
    "#3.使用class defaultdict\n",
    "from collections import defaultdict\n",
    "dic = defaultdict(list)\n",
    "for word in seq:\n",
    "    dic[word[0]].append(word)\n",
    "dic"
   ]
  },
  {
   "cell_type": "code",
   "execution_count": 72,
   "metadata": {},
   "outputs": [
    {
     "data": {
      "text/plain": [
       "{(1, 2): 2}"
      ]
     },
     "execution_count": 72,
     "metadata": {},
     "output_type": "execute_result"
    }
   ],
   "source": [
    "#字典的有效key类型。一般dict的key类型为int，float，str，tuple。value类型可以为任意的python对象。\n",
    "#key类型是不可变的，具有可哈希性。\n",
    "hash('strss')\n",
    "#hash(['s']) #unhashable type: 'list'\n",
    "hash(1)\n",
    "#可以将不可哈希的量通过tuple()转换为元组，则为hashable\n",
    "dic = {}\n",
    "#dic[[1, 2]] = 2 #unhashable type: 'list'\n",
    "dic[tuple([1, 2])] = 2 #将key转换为tuple，hashable\n",
    "dic"
   ]
  },
  {
   "cell_type": "code",
   "execution_count": 95,
   "metadata": {},
   "outputs": [
    {
     "data": {
      "text/plain": [
       "[1, 2, 6]"
      ]
     },
     "execution_count": 95,
     "metadata": {},
     "output_type": "execute_result"
    }
   ],
   "source": [
    "#python创建集合set。可直接{}创建，内部元素可认为是只有key没有value的dict。也可用set函数创建。\n",
    "#注意集合的性质，确定性，互异性，无序性。\n",
    "#集合可认为是dict的key，因此是可哈希的，对于list类型要变成tuple才能创建set\n",
    "set1 = {1, 2, 3, 4, 1, 2}\n",
    "set2 = {'sdsd', 'sda', 1, 1}\n",
    "#集合常用操作符 |, |=, &, &=, ^, ^=, -, -= 这些操作符可以轻松帮助处理数据\n",
    "#集合元素改变操作符 add()增加任意元素, clear()清空集合, remove()移除任意元素，\n",
    "#pop()移除任意不可指定元素\n",
    "du = set1.copy()\n",
    "du |= set2\n",
    "#下面实现提取出两个列表的相同项，可以利用for循环，也可以转为集合利用操作符实现\n",
    "data1 = [1, 2, 5, 6, 'sdsd', 'asda']\n",
    "data2 = [1, 2, 4, 6, 'aa', 'aas']\n",
    "data3 = []\n",
    "\n",
    "for value1, value2 in zip(data1, data2):\n",
    "    if value1 == value2:\n",
    "        data3.append(value1)\n",
    "        \n",
    "data3 = list(set(data1) & set(data2))\n",
    "data3"
   ]
  },
  {
   "cell_type": "code",
   "execution_count": 107,
   "metadata": {},
   "outputs": [
    {
     "data": {
      "text/plain": [
       "{0: 'qa', 1: 'asd', 2: 'xxxax', 3: 'aad', 4: 'ss', 5: 'x'}"
      ]
     },
     "execution_count": 107,
     "metadata": {},
     "output_type": "execute_result"
    }
   ],
   "source": [
    "#python简化代码形式表达方法。\n",
    "#list，set，dict的过滤元素构造方法： expr for val in collections if condition\n",
    "#conditon条件满足，则将val放入expr中\n",
    "#过滤出不多于俩个字母的元素并使其变为大写\n",
    "str1 = ['qa', 'asd', 'xxxax', 'aad', 'ss','x']\n",
    "str2 = [val.upper() for val in str1 if len(val) <= 2]\n",
    "str2\n",
    "#得到string的长度\n",
    "str3 = [len(val) for val in str1]\n",
    "#map函数 第一个为函数，第二个为参数，参数中的每个元素都会被作用在第一个函数上，并返回一个迭代值\n",
    "str3 = list(map(len, str1))\n",
    "str3\n",
    "\n",
    "dic = {key: value for key, value in enumerate(str1)}\n",
    "dic"
   ]
  },
  {
   "cell_type": "code",
   "execution_count": 113,
   "metadata": {},
   "outputs": [
    {
     "data": {
      "text/plain": [
       "[1, 2, 3, 1, 2, 3, 2]"
      ]
     },
     "execution_count": 113,
     "metadata": {},
     "output_type": "execute_result"
    }
   ],
   "source": [
    "#简化多重循环提取出包含更多e的字符串\n",
    "name = [['John', 'Emily', 'Michael', 'Mary', 'Steven'], \n",
    "        ['Maria', 'Juan', 'Javier', 'Natalia', 'Pilar']]\n",
    "name_me = []\n",
    "for i in name:\n",
    "    for val in i:\n",
    "        if val.count('e') >= 2:\n",
    "            name_me.append(val)\n",
    "\n",
    "name_me = [nam for i in name for nam in i if nam.count('e') >= 2]\n",
    "name_me\n",
    "\n",
    "#对多个元组，多个列表结构的扁平化（转换为一个列表或元组）\n",
    "seq1 = [(1, 2, 3), (1, 2), (3, 2)]\n",
    "seq2 = [x for chunk in seq1 for x in chunk]\n",
    "seq2"
   ]
  },
  {
   "cell_type": "code",
   "execution_count": null,
   "metadata": {},
   "outputs": [],
   "source": []
  }
 ],
 "metadata": {
  "kernelspec": {
   "display_name": "Python 3",
   "language": "python",
   "name": "python3"
  },
  "language_info": {
   "codemirror_mode": {
    "name": "ipython",
    "version": 3
   },
   "file_extension": ".py",
   "mimetype": "text/x-python",
   "name": "python",
   "nbconvert_exporter": "python",
   "pygments_lexer": "ipython3",
   "version": "3.8.5"
  }
 },
 "nbformat": 4,
 "nbformat_minor": 4
}
