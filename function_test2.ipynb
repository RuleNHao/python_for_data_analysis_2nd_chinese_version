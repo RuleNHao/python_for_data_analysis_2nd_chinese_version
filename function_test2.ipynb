{
 "cells": [
  {
   "cell_type": "code",
   "execution_count": 1,
   "id": "00e5cf9c",
   "metadata": {},
   "outputs": [],
   "source": [
    "from IPython.core.interactiveshell import InteractiveShell\n",
    "InteractiveShell.ast_node_interactivity = 'all'"
   ]
  },
  {
   "cell_type": "code",
   "execution_count": 42,
   "id": "2c8f85b4",
   "metadata": {},
   "outputs": [],
   "source": [
    "a = \"\"\"\n",
    "ssc\n",
    "ddd\n",
    "dda\n",
    "\"\"\""
   ]
  },
  {
   "cell_type": "code",
   "execution_count": 56,
   "id": "055fbdb7",
   "metadata": {},
   "outputs": [
    {
     "data": {
      "text/plain": [
       "'\\nssc\\nddd\\ndda\\n'"
      ]
     },
     "execution_count": 56,
     "metadata": {},
     "output_type": "execute_result"
    },
    {
     "data": {
      "text/plain": [
       "['\\n', 2, 's', 'c', '\\n', 'd', 'd', 'd', '\\n', 'd', 'd', 'a', '\\n']"
      ]
     },
     "execution_count": 56,
     "metadata": {},
     "output_type": "execute_result"
    }
   ],
   "source": [
    "b = a.replace('\\n', '')\n",
    "a\n",
    "c = list(a)\n",
    "c[1] = 2\n",
    "c"
   ]
  },
  {
   "cell_type": "code",
   "execution_count": 72,
   "id": "21ebae07",
   "metadata": {},
   "outputs": [
    {
     "data": {
      "text/plain": [
       "[1, 2, 3, 5, 4]"
      ]
     },
     "execution_count": 72,
     "metadata": {},
     "output_type": "execute_result"
    },
    {
     "data": {
      "text/plain": [
       "[4, 5, 1, 3, 3]"
      ]
     },
     "execution_count": 72,
     "metadata": {},
     "output_type": "execute_result"
    }
   ],
   "source": [
    "#对于多个序列，创建一一对应的关系，使用zip\n",
    "#我们希望得到与c同等大小的序列\n",
    "#如果序列很多而且不知道那个是最小序列，使用zip函数就很方便\n",
    "a = [1,2,3,5,4,3,3,3,3,2]\n",
    "b = [4,5,1,3,3,5,4,4,5]\n",
    "c = [6,3,5,6,3]\n",
    "a1 = a[:len(c)]\n",
    "b1 = b[:len(c)]\n",
    "a1\n",
    "b1"
   ]
  },
  {
   "cell_type": "code",
   "execution_count": 75,
   "id": "196e0ee0",
   "metadata": {},
   "outputs": [
    {
     "data": {
      "text/plain": [
       "[1, 2, 3, 5, 4]"
      ]
     },
     "execution_count": 75,
     "metadata": {},
     "output_type": "execute_result"
    },
    {
     "data": {
      "text/plain": [
       "[4, 5, 1, 3, 3]"
      ]
     },
     "execution_count": 75,
     "metadata": {},
     "output_type": "execute_result"
    },
    {
     "data": {
      "text/plain": [
       "[6, 3, 5, 6, 3]"
      ]
     },
     "execution_count": 75,
     "metadata": {},
     "output_type": "execute_result"
    }
   ],
   "source": [
    "a1, b1, c1 = zip(*zip(a, b, c))\n",
    "list(a1)\n",
    "list(b1)\n",
    "list(c1)"
   ]
  },
  {
   "cell_type": "code",
   "execution_count": 78,
   "id": "fd0c1d80",
   "metadata": {},
   "outputs": [
    {
     "data": {
      "text/plain": [
       "[2, 3, 3, 3, 3, 4, 5, 3, 2, 1]"
      ]
     },
     "execution_count": 78,
     "metadata": {},
     "output_type": "execute_result"
    }
   ],
   "source": [
    "list(reversed(a))"
   ]
  },
  {
   "cell_type": "code",
   "execution_count": 81,
   "id": "c0e0d1e6",
   "metadata": {},
   "outputs": [
    {
     "data": {
      "text/plain": [
       "[1, 2, 3, 5, 4, 3, 3, 3, 3, 2]"
      ]
     },
     "execution_count": 81,
     "metadata": {},
     "output_type": "execute_result"
    },
    {
     "data": {
      "text/plain": [
       "[4, 5, 1, 3, 3, 5, 4, 4, 5]"
      ]
     },
     "execution_count": 81,
     "metadata": {},
     "output_type": "execute_result"
    },
    {
     "data": {
      "text/plain": [
       "{1: 4, 2: 5, 3: 5, 5: 3, 4: 3}"
      ]
     },
     "execution_count": 81,
     "metadata": {},
     "output_type": "execute_result"
    }
   ],
   "source": [
    "a\n",
    "b\n",
    "dict = {}\n",
    "for key, value in zip(a, b):\n",
    "    dict[key] = value\n",
    "dict"
   ]
  },
  {
   "cell_type": "code",
   "execution_count": 87,
   "id": "56f3f0dc",
   "metadata": {},
   "outputs": [
    {
     "data": {
      "text/plain": [
       "{0: 1, 1: 'ss', 2: (1, 2)}"
      ]
     },
     "execution_count": 87,
     "metadata": {},
     "output_type": "execute_result"
    }
   ],
   "source": [
    "def calling():\n",
    "    a = 1\n",
    "    b = 'ss'\n",
    "    c = (1,2)\n",
    "    return {0:a, 1:b, 2:c}\n",
    "a = calling()\n",
    "a"
   ]
  },
  {
   "cell_type": "code",
   "execution_count": 102,
   "id": "9b76dd20",
   "metadata": {},
   "outputs": [
    {
     "data": {
      "text/plain": [
       "4"
      ]
     },
     "execution_count": 102,
     "metadata": {},
     "output_type": "execute_result"
    }
   ],
   "source": [
    "#列表推导式是看对应的循环的值\n",
    "#lambda匿名函数看最后的值\n",
    "a = [i for i in range(10)]\n",
    "b = lambda x: x**2\n",
    "b(2)"
   ]
  },
  {
   "cell_type": "code",
   "execution_count": 24,
   "id": "17833dc6",
   "metadata": {},
   "outputs": [
    {
     "name": "stdout",
     "output_type": "stream",
     "text": [
      "FUCK U\n"
     ]
    }
   ],
   "source": [
    "def ties(x):\n",
    "    try:\n",
    "        if type(x) == list:\n",
    "            return x\n",
    "    except:\n",
    "        print(\"FUCK U\")\n",
    "    finally:\n",
    "        print(\"FUCK U\")\n",
    "\n",
    "a = 'ss'\n",
    "ties(a)"
   ]
  }
 ],
 "metadata": {
  "kernelspec": {
   "display_name": "Python 3",
   "language": "python",
   "name": "python3"
  },
  "language_info": {
   "codemirror_mode": {
    "name": "ipython",
    "version": 3
   },
   "file_extension": ".py",
   "mimetype": "text/x-python",
   "name": "python",
   "nbconvert_exporter": "python",
   "pygments_lexer": "ipython3",
   "version": "3.8.8"
  }
 },
 "nbformat": 4,
 "nbformat_minor": 5
}
