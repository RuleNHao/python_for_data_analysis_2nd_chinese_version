{
 "cells": [
  {
   "cell_type": "code",
   "execution_count": 90,
   "id": "88183125",
   "metadata": {},
   "outputs": [],
   "source": [
    "import numpy as np\n",
    "from IPython.core.interactiveshell import InteractiveShell\n",
    "InteractiveShell.ast_node_interactivity = 'all'"
   ]
  },
  {
   "cell_type": "code",
   "execution_count": 6,
   "id": "47df5720",
   "metadata": {},
   "outputs": [],
   "source": [
    "a = np.arange(1000000)\n",
    "b = list(range(1000000))"
   ]
  },
  {
   "cell_type": "code",
   "execution_count": 7,
   "id": "71c6fac4",
   "metadata": {},
   "outputs": [
    {
     "name": "stdout",
     "output_type": "stream",
     "text": [
      "Wall time: 44.1 ms\n",
      "Wall time: 923 ms\n"
     ]
    }
   ],
   "source": [
    "%time for _ in range(10): a2 = a * 2\n",
    "\n",
    "%time for _ in range(10): b2 = [i*2 for i in b]"
   ]
  },
  {
   "cell_type": "code",
   "execution_count": 47,
   "id": "2876c75a",
   "metadata": {},
   "outputs": [
    {
     "data": {
      "text/plain": [
       "numpy.ndarray"
      ]
     },
     "execution_count": 47,
     "metadata": {},
     "output_type": "execute_result"
    },
    {
     "data": {
      "text/plain": [
       "dtype('float64')"
      ]
     },
     "execution_count": 47,
     "metadata": {},
     "output_type": "execute_result"
    },
    {
     "data": {
      "text/plain": [
       "(2, 3)"
      ]
     },
     "execution_count": 47,
     "metadata": {},
     "output_type": "execute_result"
    },
    {
     "data": {
      "text/plain": [
       "int"
      ]
     },
     "execution_count": 47,
     "metadata": {},
     "output_type": "execute_result"
    },
    {
     "data": {
      "text/plain": [
       "6"
      ]
     },
     "execution_count": 47,
     "metadata": {},
     "output_type": "execute_result"
    }
   ],
   "source": [
    "a = np.random.randn(2,3)\n",
    "type(a)\n",
    "a.dtype\n",
    "a.shape\n",
    "a.ndim\n",
    "a.size"
   ]
  },
  {
   "cell_type": "code",
   "execution_count": 3,
   "id": "0ecf6f7c",
   "metadata": {},
   "outputs": [],
   "source": [
    "import numpy as np\n",
    "from IPython.core.interactiveshell import InteractiveShell\n",
    "InteractiveShell.ast_node_interactivity = 'all'"
   ]
  },
  {
   "cell_type": "code",
   "execution_count": 2,
   "id": "bd457865",
   "metadata": {},
   "outputs": [
    {
     "data": {
      "text/plain": [
       "0.0"
      ]
     },
     "execution_count": 2,
     "metadata": {},
     "output_type": "execute_result"
    }
   ],
   "source": [
    "data = [1,2,3,4]\n",
    "a = np.array(data)\n",
    "shape = (2,3)\n",
    "b = np.zeros(shape)\n",
    "c = np.ones(shape)\n",
    "d = np.empty(shape)\n",
    "d[0,0]"
   ]
  },
  {
   "cell_type": "code",
   "execution_count": 4,
   "id": "4c2639f4",
   "metadata": {},
   "outputs": [],
   "source": [
    "a = np.array([1,2,3], dtype='f4')\n",
    "b = np.full_like(a, fill_value=2, dtype=np.float64)\n",
    "c = np.eye(a.size)\n",
    "d = np.ones((2,3))"
   ]
  },
  {
   "cell_type": "code",
   "execution_count": 70,
   "id": "c2f1177c",
   "metadata": {},
   "outputs": [
    {
     "data": {
      "text/plain": [
       "array([[1, 2, 3],\n",
       "       [4, 5, 2],\n",
       "       [1, 5, 1]])"
      ]
     },
     "execution_count": 70,
     "metadata": {},
     "output_type": "execute_result"
    },
    {
     "data": {
      "text/plain": [
       "array([[2, 3],\n",
       "       [5, 2]])"
      ]
     },
     "execution_count": 70,
     "metadata": {},
     "output_type": "execute_result"
    }
   ],
   "source": [
    "a = np.array([True, True, False])\n",
    "b = np.random.randint(1,10,(3,5))\n",
    "# b的切片值全部赋为1，也会改变原来的b值\n",
    "# 花式索引\n",
    "# 数组的切片，在一个中括号里用逗号分割就是行和列的表示，用两个中括号可以视作先切第一个在切第二个\n",
    "a = np.array([[1,2,3],[4,5,2],[1,5,1]])\n",
    "a\n",
    "b = a[[0,1],:][:,[1,2]]\n",
    "c = a[0][0]\n",
    "c = a[0,0]\n",
    "# a[i][j]与a[i,j]之所以等价，因为把a[i]切出来再(a[i])[j]，意思是在a[i]的基础上切[j]，如果是ij输出数组那么这两个方法就会有差异\n",
    "# 最佳办法就是使用[i,j]，并且都讲明相应的切片范围，不省略:\n",
    "# a[i][j] == a[i,:][j]"
   ]
  },
  {
   "cell_type": "code",
   "execution_count": 75,
   "id": "96ee4244",
   "metadata": {
    "collapsed": true,
    "jupyter": {
     "outputs_hidden": true
    },
    "tags": []
   },
   "outputs": [
    {
     "data": {
      "text/plain": [
       "array([[[5, 6, 7, 2],\n",
       "        [7, 8, 4, 6],\n",
       "        [4, 7, 9, 1]],\n",
       "\n",
       "       [[9, 6, 6, 2],\n",
       "        [5, 2, 9, 1],\n",
       "        [8, 2, 4, 4]]])"
      ]
     },
     "execution_count": 75,
     "metadata": {},
     "output_type": "execute_result"
    },
    {
     "data": {
      "text/plain": [
       "array([[[5, 7, 4],\n",
       "        [6, 8, 7],\n",
       "        [7, 4, 9],\n",
       "        [2, 6, 1]],\n",
       "\n",
       "       [[9, 5, 8],\n",
       "        [6, 2, 2],\n",
       "        [6, 9, 4],\n",
       "        [2, 1, 4]]])"
      ]
     },
     "execution_count": 75,
     "metadata": {},
     "output_type": "execute_result"
    },
    {
     "data": {
      "text/plain": [
       "array([[[5, 9],\n",
       "        [7, 5],\n",
       "        [4, 8]],\n",
       "\n",
       "       [[6, 6],\n",
       "        [8, 2],\n",
       "        [7, 2]],\n",
       "\n",
       "       [[7, 6],\n",
       "        [4, 9],\n",
       "        [9, 4]],\n",
       "\n",
       "       [[2, 2],\n",
       "        [6, 1],\n",
       "        [1, 4]]])"
      ]
     },
     "execution_count": 75,
     "metadata": {},
     "output_type": "execute_result"
    },
    {
     "data": {
      "text/plain": [
       "(2, 3, 4)"
      ]
     },
     "execution_count": 75,
     "metadata": {},
     "output_type": "execute_result"
    },
    {
     "data": {
      "text/plain": [
       "(2, 4, 3)"
      ]
     },
     "execution_count": 75,
     "metadata": {},
     "output_type": "execute_result"
    },
    {
     "data": {
      "text/plain": [
       "(4, 3, 2)"
      ]
     },
     "execution_count": 75,
     "metadata": {},
     "output_type": "execute_result"
    }
   ],
   "source": [
    "# 数组的转置操作\n",
    "a = np.random.randint(1, 10, (2,3,4))\n",
    "a\n",
    "# a的轴维度分别为2，3，4\n",
    "b = a.transpose((0, 2, 1))\n",
    "b\n",
    "# transpose接收一个tuple，表示由(0, 1, 2) to (2, 1, 0)\n",
    "# 代表不同轴的转置\n",
    "c = a.transpose((2, 1, 0))\n",
    "c\n",
    "a.shape\n",
    "b.shape\n",
    "c.shape"
   ]
  },
  {
   "cell_type": "code",
   "execution_count": 78,
   "id": "92432008",
   "metadata": {},
   "outputs": [
    {
     "data": {
      "text/plain": [
       "array([1.09544512, 1.4832397 , 2.25831796, 2.21359436])"
      ]
     },
     "execution_count": 78,
     "metadata": {},
     "output_type": "execute_result"
    },
    {
     "data": {
      "text/plain": [
       "array([1.2, 2.2, 5.1, 4.9])"
      ]
     },
     "execution_count": 78,
     "metadata": {},
     "output_type": "execute_result"
    },
    {
     "data": {
      "text/plain": [
       "array([ 1.44,  4.84, 26.01, 24.01])"
      ]
     },
     "execution_count": 78,
     "metadata": {},
     "output_type": "execute_result"
    },
    {
     "data": {
      "text/plain": [
       "array([  3.32011692,   9.0250135 , 164.0219073 , 134.28977968])"
      ]
     },
     "execution_count": 78,
     "metadata": {},
     "output_type": "execute_result"
    },
    {
     "data": {
      "text/plain": [
       "array([0.18232156, 0.78845736, 1.62924054, 1.58923521])"
      ]
     },
     "execution_count": 78,
     "metadata": {},
     "output_type": "execute_result"
    },
    {
     "data": {
      "text/plain": [
       "array([1., 1., 1., 1.])"
      ]
     },
     "execution_count": 78,
     "metadata": {},
     "output_type": "execute_result"
    },
    {
     "data": {
      "text/plain": [
       "array([1., 2., 5., 4.])"
      ]
     },
     "execution_count": 78,
     "metadata": {},
     "output_type": "execute_result"
    },
    {
     "data": {
      "text/plain": [
       "array([2., 3., 6., 5.])"
      ]
     },
     "execution_count": 78,
     "metadata": {},
     "output_type": "execute_result"
    },
    {
     "data": {
      "text/plain": [
       "array([1., 2., 5., 5.])"
      ]
     },
     "execution_count": 78,
     "metadata": {},
     "output_type": "execute_result"
    },
    {
     "data": {
      "text/plain": [
       "(array([0.2, 0.2, 0.1, 0.9]), array([1., 2., 5., 4.]))"
      ]
     },
     "execution_count": 78,
     "metadata": {},
     "output_type": "execute_result"
    },
    {
     "data": {
      "text/plain": [
       "array([False, False, False, False])"
      ]
     },
     "execution_count": 78,
     "metadata": {},
     "output_type": "execute_result"
    },
    {
     "data": {
      "text/plain": [
       "array([ True,  True,  True,  True])"
      ]
     },
     "execution_count": 78,
     "metadata": {},
     "output_type": "execute_result"
    },
    {
     "data": {
      "text/plain": [
       "array([ 0.36235775, -0.58850112,  0.37797774,  0.18651237])"
      ]
     },
     "execution_count": 78,
     "metadata": {},
     "output_type": "execute_result"
    },
    {
     "data": {
      "text/plain": [
       "array([ 0.93203909,  0.8084964 , -0.92581468, -0.98245261])"
      ]
     },
     "execution_count": 78,
     "metadata": {},
     "output_type": "execute_result"
    },
    {
     "data": {
      "text/plain": [
       "array([ 1.81065557,  4.56790833, 82.01400202, 67.14861313])"
      ]
     },
     "execution_count": 78,
     "metadata": {},
     "output_type": "execute_result"
    },
    {
     "data": {
      "text/plain": [
       "array([0.83365461, 0.97574313, 0.99992566, 0.9998891 ])"
      ]
     },
     "execution_count": 78,
     "metadata": {},
     "output_type": "execute_result"
    }
   ],
   "source": [
    "# numpy的若干基本函数\n",
    "a = np.array([1.2, 2.2, 5.1, 4.9])\n",
    "np.sqrt(a)\n",
    "np.abs(a)\n",
    "np.square(a)\n",
    "np.exp(a)\n",
    "np.log(a)\n",
    "np.sign(a)\n",
    "np.floor(a)\n",
    "np.ceil(a)\n",
    "np.rint(a) # 四舍五入到最近的整数\n",
    "np.modf(a) #把每个元素的整数和小数分开并返回相应的值\n",
    "np.isnan(a)\n",
    "np.isfinite(a)\n",
    "np.cos(a)\n",
    "np.sin(a)\n",
    "np.cosh(a)\n",
    "np.tanh(a)\n",
    "\n"
   ]
  },
  {
   "cell_type": "code",
   "execution_count": 131,
   "id": "470d4eda",
   "metadata": {},
   "outputs": [
    {
     "data": {
      "text/plain": [
       "<matplotlib.image.AxesImage at 0x2ded15e87c0>"
      ]
     },
     "execution_count": 131,
     "metadata": {},
     "output_type": "execute_result"
    },
    {
     "data": {
      "text/plain": [
       "<matplotlib.colorbar.Colorbar at 0x2ded15e8df0>"
      ]
     },
     "execution_count": 131,
     "metadata": {},
     "output_type": "execute_result"
    },
    {
     "data": {
      "image/png": "[encoded data removed]",
      "text/plain": [
       "<Figure size 432x288 with 2 Axes>"
      ]
     },
     "metadata": {
      "needs_background": "light"
     },
     "output_type": "display_data"
    }
   ],
   "source": [
    "# np.meshgrid函数\n",
    "a = np.arange(0,100)\n",
    "b = np.arange(-1, 1, 0.1)\n",
    "x, y = np.meshgrid(a, a)\n",
    "z = np.random.rand(1)*x + np.random.rand(1)*y\n",
    "import matplotlib.pyplot as plt\n",
    "plt.imshow(z)\n",
    "plt.colorbar()"
   ]
  },
  {
   "cell_type": "code",
   "execution_count": 50,
   "id": "c9c0d532",
   "metadata": {},
   "outputs": [
    {
     "data": {
      "text/plain": [
       "array([[4, 1, 1],\n",
       "       [1, 2, 1]])"
      ]
     },
     "execution_count": 50,
     "metadata": {},
     "output_type": "execute_result"
    }
   ],
   "source": [
    "# np.where\n",
    "# where是三元表达式的矢量化版本，用于根据一个数组产生另一个数组\n",
    "import numpy as np\n",
    "a = np.random.randint(0, 10, (2,3))\n",
    "b = np.where(a>=5, 1, a)\n",
    "b"
   ]
  },
  {
   "cell_type": "code",
   "execution_count": 70,
   "id": "edb2b063",
   "metadata": {},
   "outputs": [
    {
     "data": {
      "text/plain": [
       "array([1, 9, 9, 1, 3, 5, 1, 4.3, 5], dtype=object)"
      ]
     },
     "execution_count": 70,
     "metadata": {},
     "output_type": "execute_result"
    }
   ],
   "source": [
    "# 给一个数组，将内部的缺失值和字符串变为0\n",
    "# 一般可以使用python遍历，找到一个符合值就赋为0，也可以使用np.where\n",
    "a = np.array([1, None, None, 1, 3, 5, 1, 4.3, 5])\n",
    "b = np.full_like(a, fill_value=9)\n",
    "c = np.where(a==None, b, a)\n",
    "c"
   ]
  },
  {
   "cell_type": "code",
   "execution_count": 96,
   "id": "b261c5f3",
   "metadata": {
    "tags": []
   },
   "outputs": [
    {
     "data": {
      "text/plain": [
       "array([[-0.1923713 , -0.5883844 , -0.31787178, -0.83949106, -1.81697769,\n",
       "         1.69669537],\n",
       "       [ 0.78196085,  0.16012026,  0.57308975, -1.24759031, -0.31324032,\n",
       "         1.32242632],\n",
       "       [ 0.0999887 ,  1.91127454, -1.30404663, -0.22693667,  0.38306887,\n",
       "         0.36911132],\n",
       "       [ 0.12217466,  0.50153484, -2.16216214,  0.63983667, -0.67333111,\n",
       "         0.90072042]])"
      ]
     },
     "execution_count": 96,
     "metadata": {},
     "output_type": "execute_result"
    },
    {
     "data": {
      "text/plain": [
       "array([ 0.81175291,  1.98454524, -3.21099079, -1.67418137, -2.42048025,\n",
       "        4.28895343])"
      ]
     },
     "execution_count": 96,
     "metadata": {},
     "output_type": "execute_result"
    },
    {
     "data": {
      "text/plain": [
       "array([-0.34306681,  0.21279443,  0.20541002, -0.11187111])"
      ]
     },
     "execution_count": 96,
     "metadata": {},
     "output_type": "execute_result"
    },
    {
     "data": {
      "text/plain": [
       "array([[-0.1923713 , -0.7807557 , -1.09862748, -1.93811854, -3.75509623,\n",
       "        -2.05840086],\n",
       "       [ 0.78196085,  0.94208111,  1.51517086,  0.26758055, -0.04565977,\n",
       "         1.27676656],\n",
       "       [ 0.0999887 ,  2.01126325,  0.70721662,  0.48027995,  0.86334882,\n",
       "         1.23246014],\n",
       "       [ 0.12217466,  0.6237095 , -1.53845264, -0.89861597, -1.57194708,\n",
       "        -0.67122666]])"
      ]
     },
     "execution_count": 96,
     "metadata": {},
     "output_type": "execute_result"
    },
    {
     "data": {
      "text/plain": [
       "array([1.05380301, 0.8263632 , 0.95261318, 1.04406107])"
      ]
     },
     "execution_count": 96,
     "metadata": {},
     "output_type": "execute_result"
    },
    {
     "data": {
      "text/plain": [
       "array([0.12716454, 0.82293433, 1.0568354 , 0.5053493 , 0.6337407 ,\n",
       "       0.24408666])"
      ]
     },
     "execution_count": 96,
     "metadata": {},
     "output_type": "execute_result"
    },
    {
     "data": {
      "text/plain": [
       "13"
      ]
     },
     "execution_count": 96,
     "metadata": {},
     "output_type": "execute_result"
    },
    {
     "data": {
      "text/plain": [
       "1.9112745435195708"
      ]
     },
     "execution_count": 96,
     "metadata": {},
     "output_type": "execute_result"
    }
   ],
   "source": [
    "# 数组常用函数，这些函数都可以直接调用，也可以当成np的函数使用，均能输入axis参数\n",
    "# sort()会改变数组本身，而使用numpy顶级函数则返回一个副本\n",
    "a = np.random.randn(4,6)\n",
    "a\n",
    "a.sum(axis=0)\n",
    "a.mean(axis=1)\n",
    "a.cumsum(axis=1)\n",
    "a.std(axis=1)\n",
    "a.var(axis=0)\n",
    "a.argmax()\n",
    "a.max()\n",
    "a.sort(axis=0)\n",
    "b = np.sort(a, axis=1)"
   ]
  },
  {
   "cell_type": "code",
   "execution_count": 98,
   "id": "536ab605",
   "metadata": {},
   "outputs": [
    {
     "data": {
      "text/plain": [
       "array([[0.28983856, 0.20236189, 0.61936649],\n",
       "       [0.20236189, 0.17304656, 0.34181601],\n",
       "       [0.61936649, 0.34181601, 1.58210252]])"
      ]
     },
     "execution_count": 98,
     "metadata": {},
     "output_type": "execute_result"
    },
    {
     "data": {
      "text/plain": [
       "array([[1.05210704, 0.89639989],\n",
       "       [0.89639989, 0.9928806 ]])"
      ]
     },
     "execution_count": 98,
     "metadata": {},
     "output_type": "execute_result"
    }
   ],
   "source": [
    "a = np.random.rand(2,3)\n",
    "a.T @ a\n",
    "a @ a.T"
   ]
  },
  {
   "cell_type": "code",
   "execution_count": 126,
   "id": "046a334b",
   "metadata": {},
   "outputs": [
    {
     "name": "stderr",
     "output_type": "stream",
     "text": [
      "<ipython-input-126-a87639862534>:2: RuntimeWarning: divide by zero encountered in log\n",
      "  plt.plot(np.arange(-20, 20), np.arange(-20,20)*np.log(np.arange(-20,20)))\n",
      "<ipython-input-126-a87639862534>:2: RuntimeWarning: invalid value encountered in log\n",
      "  plt.plot(np.arange(-20, 20), np.arange(-20,20)*np.log(np.arange(-20,20)))\n",
      "<ipython-input-126-a87639862534>:2: RuntimeWarning: invalid value encountered in multiply\n",
      "  plt.plot(np.arange(-20, 20), np.arange(-20,20)*np.log(np.arange(-20,20)))\n"
     ]
    },
    {
     "data": {
      "text/plain": [
       "[<matplotlib.lines.Line2D at 0x2ded0439df0>]"
      ]
     },
     "execution_count": 126,
     "metadata": {},
     "output_type": "execute_result"
    },
    {
     "data": {
      "image/png": "[encoded data removed]",
      "text/plain": [
       "<Figure size 432x288 with 1 Axes>"
      ]
     },
     "metadata": {
      "needs_background": "light"
     },
     "output_type": "display_data"
    }
   ],
   "source": [
    "import matplotlib.pyplot as plt\n",
    "plt.plot(np.arange(-20, 20), np.arange(-20,20)*np.log(np.arange(-20,20)))"
   ]
  }
 ],
 "metadata": {
  "kernelspec": {
   "display_name": "Python 3",
   "language": "python",
   "name": "python3"
  },
  "language_info": {
   "codemirror_mode": {
    "name": "ipython",
    "version": 3
   },
   "file_extension": ".py",
   "mimetype": "text/x-python",
   "name": "python",
   "nbconvert_exporter": "python",
   "pygments_lexer": "ipython3",
   "version": "3.8.8"
  }
 },
 "nbformat": 4,
 "nbformat_minor": 5
}
